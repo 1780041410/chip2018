{
 "cells": [
  {
   "cell_type": "markdown",
   "metadata": {},
   "source": [
    "# CHIP 2018\n",
    "\n",
    "- 数据加载\n",
    "\n",
    "- 测试集合中的问题id有多少出现在训练集中？\n",
    "\n",
    "- 字、词序列的长度分布\n",
    "\n",
    "- 正负样本比例\n",
    "\n",
    "- 字、词序列最大长度的覆盖率\n",
    "\n",
    "- 数据扩充\n",
    "\n",
    "- 使用标签为1的样本来构造图，则任何最小子图里的句子都是同义的"
   ]
  },
  {
   "cell_type": "code",
   "execution_count": 1,
   "metadata": {},
   "outputs": [],
   "source": [
    "import pandas as pd\n",
    "import numpy as np\n",
    "import seaborn as sns\n",
    "import matplotlib.pyplot as plt\n",
    "import networkx as nx\n",
    "import queue\n",
    "from sklearn import utils"
   ]
  },
  {
   "cell_type": "code",
   "execution_count": 33,
   "metadata": {},
   "outputs": [],
   "source": [
    "def load_data():\n",
    "    train_data = pd.read_csv('../data/train.csv')\n",
    "    test_data = pd.read_csv('../data/test.csv')\n",
    "\n",
    "    questions = pd.read_csv('../data/question_id.csv')\n",
    "\n",
    "    def get_sequence(df, q='q1', left_id='qid1'):\n",
    "        tmp = pd.merge(df, questions, left_on=left_id, right_on='qid', how='left')\n",
    "        df['{}_w'.format(q)] = tmp['wid'].values\n",
    "        df['{}_c'.format(q)] = tmp['cid'].values\n",
    "\n",
    "    get_sequence(train_data, q='q1', left_id='qid1')\n",
    "    get_sequence(test_data, q='q1', left_id='qid1')\n",
    "\n",
    "    get_sequence(train_data, q='q2', left_id='qid2')\n",
    "    get_sequence(test_data, q='q2', left_id='qid2')\n",
    "\n",
    "    train_data = train_data.reset_index(drop=True)\n",
    "    test_data = test_data.reset_index(drop=True)\n",
    "    return train_data, test_data"
   ]
  },
  {
   "cell_type": "markdown",
   "metadata": {},
   "source": [
    "# 加载数据"
   ]
  },
  {
   "cell_type": "code",
   "execution_count": 2,
   "metadata": {},
   "outputs": [],
   "source": [
    "questions = pd.read_csv('../data/question_id.csv')\n",
    "train_data = pd.read_csv('../data/train.csv')\n",
    "test_data = pd.read_csv('../data/test.csv')\n",
    "test_data['label'] = -1"
   ]
  },
  {
   "cell_type": "code",
   "execution_count": 3,
   "metadata": {},
   "outputs": [
    {
     "data": {
      "text/html": [
       "<div>\n",
       "<style scoped>\n",
       "    .dataframe tbody tr th:only-of-type {\n",
       "        vertical-align: middle;\n",
       "    }\n",
       "\n",
       "    .dataframe tbody tr th {\n",
       "        vertical-align: top;\n",
       "    }\n",
       "\n",
       "    .dataframe thead th {\n",
       "        text-align: right;\n",
       "    }\n",
       "</style>\n",
       "<table border=\"1\" class=\"dataframe\">\n",
       "  <thead>\n",
       "    <tr style=\"text-align: right;\">\n",
       "      <th></th>\n",
       "      <th>qid</th>\n",
       "      <th>wid</th>\n",
       "      <th>cid</th>\n",
       "    </tr>\n",
       "  </thead>\n",
       "  <tbody>\n",
       "    <tr>\n",
       "      <th>0</th>\n",
       "      <td>S100000</td>\n",
       "      <td>W106264 W106315 W100323 W100320 W103948 W104806</td>\n",
       "      <td>C100800 C102221 C101975 C100777 C101263 C10101...</td>\n",
       "    </tr>\n",
       "    <tr>\n",
       "      <th>1</th>\n",
       "      <td>S100001</td>\n",
       "      <td>W107170 W101597 W101396 W100806 W102193 W106525</td>\n",
       "      <td>C100291 C101643 C100114 C101479 C101848 C10170...</td>\n",
       "    </tr>\n",
       "    <tr>\n",
       "      <th>2</th>\n",
       "      <td>S100002</td>\n",
       "      <td>W108463 W103948 W107108 W105043 W109529 W10608...</td>\n",
       "      <td>C100291 C101643 C100114 C100637 C101176 C10135...</td>\n",
       "    </tr>\n",
       "    <tr>\n",
       "      <th>3</th>\n",
       "      <td>S100003</td>\n",
       "      <td>W100914 W103546 W106853</td>\n",
       "      <td>C100376 C101061 C101618 C101642 C101318 C10226...</td>\n",
       "    </tr>\n",
       "    <tr>\n",
       "      <th>4</th>\n",
       "      <td>S100004</td>\n",
       "      <td>W106711 W106396 W104382 W108553 W102193 W104454</td>\n",
       "      <td>C101977 C100828 C100536 C100076 C100376 C10033...</td>\n",
       "    </tr>\n",
       "  </tbody>\n",
       "</table>\n",
       "</div>"
      ],
      "text/plain": [
       "       qid                                                wid  \\\n",
       "0  S100000    W106264 W106315 W100323 W100320 W103948 W104806   \n",
       "1  S100001    W107170 W101597 W101396 W100806 W102193 W106525   \n",
       "2  S100002  W108463 W103948 W107108 W105043 W109529 W10608...   \n",
       "3  S100003                            W100914 W103546 W106853   \n",
       "4  S100004    W106711 W106396 W104382 W108553 W102193 W104454   \n",
       "\n",
       "                                                 cid  \n",
       "0  C100800 C102221 C101975 C100777 C101263 C10101...  \n",
       "1  C100291 C101643 C100114 C101479 C101848 C10170...  \n",
       "2  C100291 C101643 C100114 C100637 C101176 C10135...  \n",
       "3  C100376 C101061 C101618 C101642 C101318 C10226...  \n",
       "4  C101977 C100828 C100536 C100076 C100376 C10033...  "
      ]
     },
     "execution_count": 3,
     "metadata": {},
     "output_type": "execute_result"
    }
   ],
   "source": [
    "questions.head()"
   ]
  },
  {
   "cell_type": "code",
   "execution_count": 4,
   "metadata": {},
   "outputs": [
    {
     "data": {
      "text/html": [
       "<div>\n",
       "<style scoped>\n",
       "    .dataframe tbody tr th:only-of-type {\n",
       "        vertical-align: middle;\n",
       "    }\n",
       "\n",
       "    .dataframe tbody tr th {\n",
       "        vertical-align: top;\n",
       "    }\n",
       "\n",
       "    .dataframe thead th {\n",
       "        text-align: right;\n",
       "    }\n",
       "</style>\n",
       "<table border=\"1\" class=\"dataframe\">\n",
       "  <thead>\n",
       "    <tr style=\"text-align: right;\">\n",
       "      <th></th>\n",
       "      <th>qid1</th>\n",
       "      <th>qid2</th>\n",
       "      <th>label</th>\n",
       "    </tr>\n",
       "  </thead>\n",
       "  <tbody>\n",
       "    <tr>\n",
       "      <th>0</th>\n",
       "      <td>S107641</td>\n",
       "      <td>S103854</td>\n",
       "      <td>0</td>\n",
       "    </tr>\n",
       "    <tr>\n",
       "      <th>1</th>\n",
       "      <td>S103127</td>\n",
       "      <td>S110857</td>\n",
       "      <td>1</td>\n",
       "    </tr>\n",
       "    <tr>\n",
       "      <th>2</th>\n",
       "      <td>S120534</td>\n",
       "      <td>S135254</td>\n",
       "      <td>1</td>\n",
       "    </tr>\n",
       "    <tr>\n",
       "      <th>3</th>\n",
       "      <td>S102044</td>\n",
       "      <td>S106012</td>\n",
       "      <td>0</td>\n",
       "    </tr>\n",
       "    <tr>\n",
       "      <th>4</th>\n",
       "      <td>S134333</td>\n",
       "      <td>S109235</td>\n",
       "      <td>0</td>\n",
       "    </tr>\n",
       "  </tbody>\n",
       "</table>\n",
       "</div>"
      ],
      "text/plain": [
       "      qid1     qid2  label\n",
       "0  S107641  S103854      0\n",
       "1  S103127  S110857      1\n",
       "2  S120534  S135254      1\n",
       "3  S102044  S106012      0\n",
       "4  S134333  S109235      0"
      ]
     },
     "execution_count": 4,
     "metadata": {},
     "output_type": "execute_result"
    }
   ],
   "source": [
    "train_data.head()"
   ]
  },
  {
   "cell_type": "code",
   "execution_count": 5,
   "metadata": {},
   "outputs": [
    {
     "data": {
      "text/html": [
       "<div>\n",
       "<style scoped>\n",
       "    .dataframe tbody tr th:only-of-type {\n",
       "        vertical-align: middle;\n",
       "    }\n",
       "\n",
       "    .dataframe tbody tr th {\n",
       "        vertical-align: top;\n",
       "    }\n",
       "\n",
       "    .dataframe thead th {\n",
       "        text-align: right;\n",
       "    }\n",
       "</style>\n",
       "<table border=\"1\" class=\"dataframe\">\n",
       "  <thead>\n",
       "    <tr style=\"text-align: right;\">\n",
       "      <th></th>\n",
       "      <th>qid1</th>\n",
       "      <th>qid2</th>\n",
       "      <th>label</th>\n",
       "    </tr>\n",
       "  </thead>\n",
       "  <tbody>\n",
       "    <tr>\n",
       "      <th>0</th>\n",
       "      <td>S101364</td>\n",
       "      <td>S126188</td>\n",
       "      <td>-1</td>\n",
       "    </tr>\n",
       "    <tr>\n",
       "      <th>1</th>\n",
       "      <td>S132542</td>\n",
       "      <td>S113317</td>\n",
       "      <td>-1</td>\n",
       "    </tr>\n",
       "    <tr>\n",
       "      <th>2</th>\n",
       "      <td>S119115</td>\n",
       "      <td>S116093</td>\n",
       "      <td>-1</td>\n",
       "    </tr>\n",
       "    <tr>\n",
       "      <th>3</th>\n",
       "      <td>S133446</td>\n",
       "      <td>S131950</td>\n",
       "      <td>-1</td>\n",
       "    </tr>\n",
       "    <tr>\n",
       "      <th>4</th>\n",
       "      <td>S115891</td>\n",
       "      <td>S111314</td>\n",
       "      <td>-1</td>\n",
       "    </tr>\n",
       "  </tbody>\n",
       "</table>\n",
       "</div>"
      ],
      "text/plain": [
       "      qid1     qid2  label\n",
       "0  S101364  S126188     -1\n",
       "1  S132542  S113317     -1\n",
       "2  S119115  S116093     -1\n",
       "3  S133446  S131950     -1\n",
       "4  S115891  S111314     -1"
      ]
     },
     "execution_count": 5,
     "metadata": {},
     "output_type": "execute_result"
    }
   ],
   "source": [
    "test_data.head()"
   ]
  },
  {
   "cell_type": "code",
   "execution_count": 6,
   "metadata": {},
   "outputs": [
    {
     "data": {
      "text/plain": [
       "35268"
      ]
     },
     "execution_count": 6,
     "metadata": {},
     "output_type": "execute_result"
    }
   ],
   "source": [
    "len(questions)"
   ]
  },
  {
   "cell_type": "markdown",
   "metadata": {},
   "source": [
    "# 测试集合中的问题id有多少出现在训练集中？\n",
    "\n",
    "结论： 测试中的句子id都没有在训练集中出现过"
   ]
  },
  {
   "cell_type": "code",
   "execution_count": 7,
   "metadata": {},
   "outputs": [
    {
     "data": {
      "text/plain": [
       "21787"
      ]
     },
     "execution_count": 7,
     "metadata": {},
     "output_type": "execute_result"
    }
   ],
   "source": [
    "train_ids = list(train_data['qid1'].values)\n",
    "train_ids += list(train_data['qid2'].values)\n",
    "train_ids = list(set(train_ids))\n",
    "len(train_ids)"
   ]
  },
  {
   "cell_type": "code",
   "execution_count": 8,
   "metadata": {},
   "outputs": [
    {
     "data": {
      "text/plain": [
       "13481"
      ]
     },
     "execution_count": 8,
     "metadata": {},
     "output_type": "execute_result"
    }
   ],
   "source": [
    "test_ids = list(test_data['qid1'].values)\n",
    "test_ids += list(test_data['qid2'].values)\n",
    "test_ids = list(set(test_ids))\n",
    "len(test_ids)"
   ]
  },
  {
   "cell_type": "code",
   "execution_count": 9,
   "metadata": {},
   "outputs": [
    {
     "data": {
      "text/plain": [
       "0"
      ]
     },
     "execution_count": 9,
     "metadata": {},
     "output_type": "execute_result"
    }
   ],
   "source": [
    "train_ids_df= pd.DataFrame(train_ids, columns=['train_id'])\n",
    "test_ids_df = pd.DataFrame(test_ids, columns=['test_id'])\n",
    "\n",
    "tmp = pd.merge(train_ids_df, test_ids_df, left_on='train_id', right_on='test_id', how='inner')\n",
    "len(tmp)"
   ]
  },
  {
   "cell_type": "markdown",
   "metadata": {},
   "source": [
    "# 长度分布统计"
   ]
  },
  {
   "cell_type": "code",
   "execution_count": 10,
   "metadata": {},
   "outputs": [],
   "source": [
    "wid_len = []\n",
    "cid_len = []\n",
    "for idx in range(len(questions)):\n",
    "    wid = questions.loc[idx, 'wid'].split()\n",
    "    cid = questions.loc[idx, 'cid'].split()\n",
    "    wid_len.append(len(wid))\n",
    "    cid_len.append(len(cid))"
   ]
  },
  {
   "cell_type": "code",
   "execution_count": 11,
   "metadata": {},
   "outputs": [
    {
     "name": "stderr",
     "output_type": "stream",
     "text": [
      "/home/zju/softwares/anaconda3/envs/rllab/lib/python3.5/site-packages/matplotlib/axes/_axes.py:6462: UserWarning: The 'normed' kwarg is deprecated, and has been replaced by the 'density' kwarg.\n",
      "  warnings.warn(\"The 'normed' kwarg is deprecated, and has been \"\n"
     ]
    },
    {
     "data": {
      "text/plain": [
       "<matplotlib.axes._subplots.AxesSubplot at 0x7fe13160fb00>"
      ]
     },
     "execution_count": 11,
     "metadata": {},
     "output_type": "execute_result"
    },
    {
     "data": {
      "image/png": "[encoded data removed]",
      "text/plain": [
       "<Figure size 432x288 with 1 Axes>"
      ]
     },
     "metadata": {},
     "output_type": "display_data"
    }
   ],
   "source": [
    "sns.distplot(wid_len, kde=False)"
   ]
  },
  {
   "cell_type": "code",
   "execution_count": 12,
   "metadata": {},
   "outputs": [
    {
     "name": "stderr",
     "output_type": "stream",
     "text": [
      "/home/zju/softwares/anaconda3/envs/rllab/lib/python3.5/site-packages/matplotlib/axes/_axes.py:6462: UserWarning: The 'normed' kwarg is deprecated, and has been replaced by the 'density' kwarg.\n",
      "  warnings.warn(\"The 'normed' kwarg is deprecated, and has been \"\n"
     ]
    },
    {
     "data": {
      "text/plain": [
       "<matplotlib.axes._subplots.AxesSubplot at 0x7fe131677fd0>"
      ]
     },
     "execution_count": 12,
     "metadata": {},
     "output_type": "execute_result"
    },
    {
     "data": {
      "image/png": "[encoded data removed]",
      "text/plain": [
       "<Figure size 432x288 with 1 Axes>"
      ]
     },
     "metadata": {},
     "output_type": "display_data"
    }
   ],
   "source": [
    "sns.distplot(cid_len, kde=False)"
   ]
  },
  {
   "cell_type": "markdown",
   "metadata": {},
   "source": [
    "# 正负比例"
   ]
  },
  {
   "cell_type": "code",
   "execution_count": 13,
   "metadata": {},
   "outputs": [
    {
     "data": {
      "text/plain": [
       "<matplotlib.axes._subplots.AxesSubplot at 0x7fe131419630>"
      ]
     },
     "execution_count": 13,
     "metadata": {},
     "output_type": "execute_result"
    },
    {
     "data": {
      "image/png": "[encoded data removed]",
      "text/plain": [
       "<Figure size 432x288 with 1 Axes>"
      ]
     },
     "metadata": {},
     "output_type": "display_data"
    }
   ],
   "source": [
    "pos = train_data[train_data['label'] == 1]\n",
    "neg = train_data[train_data['label'] == 0]\n",
    "\n",
    "fig_data = []\n",
    "fig_data.append(['pos', len(pos)])\n",
    "fig_data.append(['neg', len(neg)])\n",
    "fig_data_df = pd.DataFrame(fig_data, columns=['type', 'values'])\n",
    "sns.barplot(x=fig_data_df['type'], y=fig_data_df['values'])"
   ]
  },
  {
   "cell_type": "markdown",
   "metadata": {},
   "source": [
    "# 最大长度覆盖率"
   ]
  },
  {
   "cell_type": "code",
   "execution_count": 14,
   "metadata": {},
   "outputs": [
    {
     "name": "stdout",
     "output_type": "stream",
     "text": [
      "词小于等于15的覆盖率：0.9731768175116252\n",
      "字小于等于25的覆盖率：0.9696041737552455\n"
     ]
    }
   ],
   "source": [
    "wid_len_df = pd.Series(wid_len)\n",
    "cid_len_df = pd.Series(cid_len)\n",
    "\n",
    "w_threshold = 15\n",
    "c_threshold = 25\n",
    "\n",
    "wid_len_less = wid_len_df[wid_len_df <= w_threshold]\n",
    "cid_len_less = cid_len_df[cid_len_df <= c_threshold]\n",
    "\n",
    "print('词小于等于{}的覆盖率：{}'.format(w_threshold, len(wid_len_less) / len(wid_len_df)))\n",
    "print('字小于等于{}的覆盖率：{}'.format(c_threshold, len(cid_len_less) / len(cid_len_df)))\n"
   ]
  },
  {
   "cell_type": "markdown",
   "metadata": {},
   "source": [
    "# 数据扩充\n",
    "\n",
    "\n",
    "扩充规则：\n",
    "\n",
    "A = B and B != C ==> A != C\n",
    "\n",
    "A = B and B = C ==> A = C"
   ]
  },
  {
   "cell_type": "code",
   "execution_count": 15,
   "metadata": {},
   "outputs": [
    {
     "name": "stdout",
     "output_type": "stream",
     "text": [
      "原始qid1数据量：20000\n",
      "不重复qid1数据量：14915\n"
     ]
    }
   ],
   "source": [
    "print('原始qid1数据量：{}'.format(len(train_data['qid1'])))\n",
    "\n",
    "tmp = train_data['qid1'].drop_duplicates()\n",
    "\n",
    "print('不重复qid1数据量：{}'.format(len(tmp)))"
   ]
  },
  {
   "cell_type": "code",
   "execution_count": 16,
   "metadata": {},
   "outputs": [
    {
     "name": "stdout",
     "output_type": "stream",
     "text": [
      "原始pid2数据量：20000\n",
      "不重复qid2数据量：14884\n"
     ]
    }
   ],
   "source": [
    "print('原始pid2数据量：{}'.format(len(train_data['qid2'])))\n",
    "\n",
    "tmp = train_data['qid2'].drop_duplicates()\n",
    "\n",
    "print('不重复qid2数据量：{}'.format(len(tmp)))"
   ]
  },
  {
   "cell_type": "code",
   "execution_count": 17,
   "metadata": {},
   "outputs": [],
   "source": [
    "label1 = train_data[train_data['label'] == 1]\n",
    "label0 = train_data[train_data['label'] == 0]"
   ]
  },
  {
   "cell_type": "markdown",
   "metadata": {},
   "source": [
    "## 使用A = B and B = C --> A = C 规则进行扩充"
   ]
  },
  {
   "cell_type": "markdown",
   "metadata": {},
   "source": [
    "### left qid1 == right qid1"
   ]
  },
  {
   "cell_type": "code",
   "execution_count": 18,
   "metadata": {},
   "outputs": [
    {
     "name": "stdout",
     "output_type": "stream",
     "text": [
      "merge1_res1 data size: 758\n"
     ]
    },
    {
     "data": {
      "text/html": [
       "<div>\n",
       "<style scoped>\n",
       "    .dataframe tbody tr th:only-of-type {\n",
       "        vertical-align: middle;\n",
       "    }\n",
       "\n",
       "    .dataframe tbody tr th {\n",
       "        vertical-align: top;\n",
       "    }\n",
       "\n",
       "    .dataframe thead th {\n",
       "        text-align: right;\n",
       "    }\n",
       "</style>\n",
       "<table border=\"1\" class=\"dataframe\">\n",
       "  <thead>\n",
       "    <tr style=\"text-align: right;\">\n",
       "      <th></th>\n",
       "      <th>qid1</th>\n",
       "      <th>qid2</th>\n",
       "      <th>label</th>\n",
       "    </tr>\n",
       "  </thead>\n",
       "  <tbody>\n",
       "    <tr>\n",
       "      <th>0</th>\n",
       "      <td>S100679</td>\n",
       "      <td>S100878</td>\n",
       "      <td>1</td>\n",
       "    </tr>\n",
       "    <tr>\n",
       "      <th>1</th>\n",
       "      <td>S100878</td>\n",
       "      <td>S100679</td>\n",
       "      <td>1</td>\n",
       "    </tr>\n",
       "    <tr>\n",
       "      <th>2</th>\n",
       "      <td>S108214</td>\n",
       "      <td>S133693</td>\n",
       "      <td>1</td>\n",
       "    </tr>\n",
       "    <tr>\n",
       "      <th>3</th>\n",
       "      <td>S133693</td>\n",
       "      <td>S108214</td>\n",
       "      <td>1</td>\n",
       "    </tr>\n",
       "    <tr>\n",
       "      <th>4</th>\n",
       "      <td>S108498</td>\n",
       "      <td>S116453</td>\n",
       "      <td>1</td>\n",
       "    </tr>\n",
       "  </tbody>\n",
       "</table>\n",
       "</div>"
      ],
      "text/plain": [
       "      qid1     qid2  label\n",
       "0  S100679  S100878      1\n",
       "1  S100878  S100679      1\n",
       "2  S108214  S133693      1\n",
       "3  S133693  S108214      1\n",
       "4  S108498  S116453      1"
      ]
     },
     "execution_count": 18,
     "metadata": {},
     "output_type": "execute_result"
    }
   ],
   "source": [
    "# qid1 = qid1\n",
    "merge_data = pd.merge(label1, label1, left_on='qid1', right_on='qid1', how='outer')\n",
    "merge_data = merge_data.reset_index(drop=True)\n",
    "\n",
    "merge1_res1 = merge_data[merge_data['qid2_x'] != merge_data['qid2_y']]\n",
    "merge1_res1 = merge1_res1.reset_index(drop=True)\n",
    "\n",
    "merge1_res1 = merge1_res1.drop(['qid1', 'label_x', 'label_y'], axis=1)\n",
    "\n",
    "merge1_res1['label'] = 1\n",
    "merge1_res1 = merge1_res1.rename(columns={'qid2_x':'qid1', 'qid2_y': 'qid2'})\n",
    "\n",
    "print('merge1_res1 data size: {}'.format(len(merge1_res1)))\n",
    "\n",
    "merge1_res1.head()"
   ]
  },
  {
   "cell_type": "markdown",
   "metadata": {},
   "source": [
    "### left qid2 == right qid2"
   ]
  },
  {
   "cell_type": "code",
   "execution_count": 19,
   "metadata": {},
   "outputs": [
    {
     "name": "stdout",
     "output_type": "stream",
     "text": [
      "merge1_res2 data size: 752\n"
     ]
    },
    {
     "data": {
      "text/html": [
       "<div>\n",
       "<style scoped>\n",
       "    .dataframe tbody tr th:only-of-type {\n",
       "        vertical-align: middle;\n",
       "    }\n",
       "\n",
       "    .dataframe tbody tr th {\n",
       "        vertical-align: top;\n",
       "    }\n",
       "\n",
       "    .dataframe thead th {\n",
       "        text-align: right;\n",
       "    }\n",
       "</style>\n",
       "<table border=\"1\" class=\"dataframe\">\n",
       "  <thead>\n",
       "    <tr style=\"text-align: right;\">\n",
       "      <th></th>\n",
       "      <th>qid1</th>\n",
       "      <th>qid2</th>\n",
       "      <th>label</th>\n",
       "    </tr>\n",
       "  </thead>\n",
       "  <tbody>\n",
       "    <tr>\n",
       "      <th>0</th>\n",
       "      <td>S103127</td>\n",
       "      <td>S103452</td>\n",
       "      <td>1</td>\n",
       "    </tr>\n",
       "    <tr>\n",
       "      <th>1</th>\n",
       "      <td>S103452</td>\n",
       "      <td>S103127</td>\n",
       "      <td>1</td>\n",
       "    </tr>\n",
       "    <tr>\n",
       "      <th>2</th>\n",
       "      <td>S119992</td>\n",
       "      <td>S132424</td>\n",
       "      <td>1</td>\n",
       "    </tr>\n",
       "    <tr>\n",
       "      <th>3</th>\n",
       "      <td>S132424</td>\n",
       "      <td>S119992</td>\n",
       "      <td>1</td>\n",
       "    </tr>\n",
       "    <tr>\n",
       "      <th>4</th>\n",
       "      <td>S120784</td>\n",
       "      <td>S117308</td>\n",
       "      <td>1</td>\n",
       "    </tr>\n",
       "  </tbody>\n",
       "</table>\n",
       "</div>"
      ],
      "text/plain": [
       "      qid1     qid2  label\n",
       "0  S103127  S103452      1\n",
       "1  S103452  S103127      1\n",
       "2  S119992  S132424      1\n",
       "3  S132424  S119992      1\n",
       "4  S120784  S117308      1"
      ]
     },
     "execution_count": 19,
     "metadata": {},
     "output_type": "execute_result"
    }
   ],
   "source": [
    "# qid2 = qid2\n",
    "merge_data = pd.merge(label1, label1, left_on='qid2', right_on='qid2', how='inner')\n",
    "merge_data = merge_data.reset_index(drop=True)\n",
    "\n",
    "merge1_res2 = merge_data[merge_data['qid1_x'] != merge_data['qid1_y']]\n",
    "merge1_res2 = merge1_res2.reset_index(drop=True)\n",
    "\n",
    "merge1_res2 = merge1_res2.drop(['qid2', 'label_x', 'label_y'], axis=1)\n",
    "\n",
    "merge1_res2['label'] = 1\n",
    "\n",
    "merge1_res2 = merge1_res2.rename(columns={'qid1_x':'qid1', 'qid1_y':'qid2'})\n",
    "\n",
    "print('merge1_res2 data size: {}'.format(len(merge1_res2)))\n",
    "\n",
    "merge1_res2.head()"
   ]
  },
  {
   "cell_type": "markdown",
   "metadata": {},
   "source": [
    "### left qid1 == right qid2"
   ]
  },
  {
   "cell_type": "code",
   "execution_count": 20,
   "metadata": {},
   "outputs": [
    {
     "name": "stdout",
     "output_type": "stream",
     "text": [
      "merge1_res3 data size: 835\n"
     ]
    },
    {
     "data": {
      "text/html": [
       "<div>\n",
       "<style scoped>\n",
       "    .dataframe tbody tr th:only-of-type {\n",
       "        vertical-align: middle;\n",
       "    }\n",
       "\n",
       "    .dataframe tbody tr th {\n",
       "        vertical-align: top;\n",
       "    }\n",
       "\n",
       "    .dataframe thead th {\n",
       "        text-align: right;\n",
       "    }\n",
       "</style>\n",
       "<table border=\"1\" class=\"dataframe\">\n",
       "  <thead>\n",
       "    <tr style=\"text-align: right;\">\n",
       "      <th></th>\n",
       "      <th>qid1</th>\n",
       "      <th>qid2</th>\n",
       "      <th>label</th>\n",
       "    </tr>\n",
       "  </thead>\n",
       "  <tbody>\n",
       "    <tr>\n",
       "      <th>0</th>\n",
       "      <td>S100458</td>\n",
       "      <td>S100167</td>\n",
       "      <td>1</td>\n",
       "    </tr>\n",
       "    <tr>\n",
       "      <th>1</th>\n",
       "      <td>S107405</td>\n",
       "      <td>S113566</td>\n",
       "      <td>1</td>\n",
       "    </tr>\n",
       "    <tr>\n",
       "      <th>2</th>\n",
       "      <td>S117947</td>\n",
       "      <td>S126272</td>\n",
       "      <td>1</td>\n",
       "    </tr>\n",
       "    <tr>\n",
       "      <th>3</th>\n",
       "      <td>S117074</td>\n",
       "      <td>S104923</td>\n",
       "      <td>1</td>\n",
       "    </tr>\n",
       "    <tr>\n",
       "      <th>4</th>\n",
       "      <td>S130624</td>\n",
       "      <td>S104923</td>\n",
       "      <td>1</td>\n",
       "    </tr>\n",
       "  </tbody>\n",
       "</table>\n",
       "</div>"
      ],
      "text/plain": [
       "      qid1     qid2  label\n",
       "0  S100458  S100167      1\n",
       "1  S107405  S113566      1\n",
       "2  S117947  S126272      1\n",
       "3  S117074  S104923      1\n",
       "4  S130624  S104923      1"
      ]
     },
     "execution_count": 20,
     "metadata": {},
     "output_type": "execute_result"
    }
   ],
   "source": [
    "# qid1 = qid2\n",
    "merge_data = pd.merge(label1, label1, left_on='qid1', right_on='qid2', how='inner')\n",
    "merge_data = merge_data.reset_index(drop=True)\n",
    "\n",
    "merge1_res3 = merge_data[merge_data['qid2_x'] != merge_data['qid1_y']]\n",
    "merge1_res3 = merge1_res3.reset_index(drop=True)\n",
    "\n",
    "merge1_res3 = merge1_res3.drop(['label_x', 'label_y', 'qid1_x', 'qid2_y'], axis=1)\n",
    "\n",
    "merge1_res3['label'] = 1\n",
    "\n",
    "merge1_res3 = merge1_res3.rename(columns={'qid2_x':'qid1', 'qid1_y':'qid2'})\n",
    "\n",
    "print('merge1_res3 data size: {}'.format(len(merge1_res3)))\n",
    "\n",
    "merge1_res3.head()"
   ]
  },
  {
   "cell_type": "markdown",
   "metadata": {},
   "source": [
    "### left qid2 == right qid1\n",
    "\n",
    "和上一个内容上是重复的"
   ]
  },
  {
   "cell_type": "code",
   "execution_count": 21,
   "metadata": {},
   "outputs": [],
   "source": [
    "# qid2 = qid1\n",
    "# 和上一个重复了\n",
    "\n",
    "# merge_data = pd.merge(label1, label1, left_on='qid2', right_on='qid1', how='inner')\n",
    "# merge_data = merge_data.reset_index(drop=True)\n",
    "\n",
    "# merge1_res4 = merge_data[merge_data['qid1_x'] != merge_data['qid2_y']]\n",
    "# merge1_res4 = merge1_res4.reset_index(drop=True)\n",
    "\n",
    "# merge1_res4 = merge1_res4.drop(['qid2_x', 'qid1_y', 'label_x', 'label_y'], axis=1)\n",
    "\n",
    "# merge1_res4['label'] = 1\n",
    "\n",
    "# merge1_res4 = merge1_res4.rename(columns={'qid1_x':'qid1','qid2_y':'qid2'})\n",
    "\n",
    "# print('merge1_res4 data size: {}'.format(len(merge1_res4)))\n",
    "\n",
    "# merge_res4.head()"
   ]
  },
  {
   "cell_type": "markdown",
   "metadata": {},
   "source": [
    "### merge all infer label 1 data"
   ]
  },
  {
   "cell_type": "code",
   "execution_count": 22,
   "metadata": {},
   "outputs": [
    {
     "name": "stdout",
     "output_type": "stream",
     "text": [
      "infer label 1 data size: 2345\n"
     ]
    }
   ],
   "source": [
    "infer_label1_data = pd.concat([merge1_res1, merge1_res2, merge1_res3], axis=0)\n",
    "infer_label1_data = infer_label1_data.reset_index(drop=True)\n",
    "len(infer_label1_data)\n",
    "infer_label1_data.to_csv('../data/infer_label1_data.csv', index=False)\n",
    "print('infer label 1 data size: {}'.format(len(infer_label1_data)))"
   ]
  },
  {
   "cell_type": "markdown",
   "metadata": {},
   "source": [
    "## 使用规则 A = B and B != C --> A != C 规则进行扩充"
   ]
  },
  {
   "cell_type": "markdown",
   "metadata": {},
   "source": [
    "### left qid1 = right qid1"
   ]
  },
  {
   "cell_type": "code",
   "execution_count": 23,
   "metadata": {},
   "outputs": [
    {
     "name": "stdout",
     "output_type": "stream",
     "text": [
      "merge data size: 4293\n"
     ]
    },
    {
     "data": {
      "text/html": [
       "<div>\n",
       "<style scoped>\n",
       "    .dataframe tbody tr th:only-of-type {\n",
       "        vertical-align: middle;\n",
       "    }\n",
       "\n",
       "    .dataframe tbody tr th {\n",
       "        vertical-align: top;\n",
       "    }\n",
       "\n",
       "    .dataframe thead th {\n",
       "        text-align: right;\n",
       "    }\n",
       "</style>\n",
       "<table border=\"1\" class=\"dataframe\">\n",
       "  <thead>\n",
       "    <tr style=\"text-align: right;\">\n",
       "      <th></th>\n",
       "      <th>qid1</th>\n",
       "      <th>qid2</th>\n",
       "      <th>label</th>\n",
       "    </tr>\n",
       "  </thead>\n",
       "  <tbody>\n",
       "    <tr>\n",
       "      <th>0</th>\n",
       "      <td>S112201</td>\n",
       "      <td>S115851</td>\n",
       "      <td>0</td>\n",
       "    </tr>\n",
       "    <tr>\n",
       "      <th>1</th>\n",
       "      <td>S107405</td>\n",
       "      <td>S119124</td>\n",
       "      <td>0</td>\n",
       "    </tr>\n",
       "    <tr>\n",
       "      <th>2</th>\n",
       "      <td>S108686</td>\n",
       "      <td>S119308</td>\n",
       "      <td>0</td>\n",
       "    </tr>\n",
       "    <tr>\n",
       "      <th>3</th>\n",
       "      <td>S100679</td>\n",
       "      <td>S105351</td>\n",
       "      <td>0</td>\n",
       "    </tr>\n",
       "    <tr>\n",
       "      <th>4</th>\n",
       "      <td>S100878</td>\n",
       "      <td>S105351</td>\n",
       "      <td>0</td>\n",
       "    </tr>\n",
       "  </tbody>\n",
       "</table>\n",
       "</div>"
      ],
      "text/plain": [
       "      qid1     qid2  label\n",
       "0  S112201  S115851      0\n",
       "1  S107405  S119124      0\n",
       "2  S108686  S119308      0\n",
       "3  S100679  S105351      0\n",
       "4  S100878  S105351      0"
      ]
     },
     "execution_count": 23,
     "metadata": {},
     "output_type": "execute_result"
    }
   ],
   "source": [
    "merge_data = pd.merge(label1, label0, left_on='qid1', right_on='qid1', how='inner')\n",
    "merge0_res1 = merge_data.reset_index(drop=True)\n",
    "print('merge data size: {}'.format(len(merge0_res1)))\n",
    "\n",
    "del merge0_res1['qid1']\n",
    "del merge0_res1['label_x']\n",
    "del merge0_res1['label_y']\n",
    "\n",
    "merge0_res1['label'] = 0\n",
    "merge0_res1 = merge0_res1.rename(columns={'qid2_x':'qid1','qid2_y':'qid2'})\n",
    "merge0_res1 = merge0_res1.drop_duplicates()\n",
    "\n",
    "merge0_res1.head()"
   ]
  },
  {
   "cell_type": "markdown",
   "metadata": {},
   "source": [
    "### left qid2 = right qid2"
   ]
  },
  {
   "cell_type": "code",
   "execution_count": 24,
   "metadata": {},
   "outputs": [
    {
     "name": "stdout",
     "output_type": "stream",
     "text": [
      "merge0_res2 data size: 4325\n"
     ]
    },
    {
     "data": {
      "text/html": [
       "<div>\n",
       "<style scoped>\n",
       "    .dataframe tbody tr th:only-of-type {\n",
       "        vertical-align: middle;\n",
       "    }\n",
       "\n",
       "    .dataframe tbody tr th {\n",
       "        vertical-align: top;\n",
       "    }\n",
       "\n",
       "    .dataframe thead th {\n",
       "        text-align: right;\n",
       "    }\n",
       "</style>\n",
       "<table border=\"1\" class=\"dataframe\">\n",
       "  <thead>\n",
       "    <tr style=\"text-align: right;\">\n",
       "      <th></th>\n",
       "      <th>qid1</th>\n",
       "      <th>qid2</th>\n",
       "      <th>label</th>\n",
       "    </tr>\n",
       "  </thead>\n",
       "  <tbody>\n",
       "    <tr>\n",
       "      <th>0</th>\n",
       "      <td>S120534</td>\n",
       "      <td>S117778</td>\n",
       "      <td>0</td>\n",
       "    </tr>\n",
       "    <tr>\n",
       "      <th>1</th>\n",
       "      <td>S122428</td>\n",
       "      <td>S121421</td>\n",
       "      <td>0</td>\n",
       "    </tr>\n",
       "    <tr>\n",
       "      <th>2</th>\n",
       "      <td>S132207</td>\n",
       "      <td>S126475</td>\n",
       "      <td>0</td>\n",
       "    </tr>\n",
       "    <tr>\n",
       "      <th>3</th>\n",
       "      <td>S128121</td>\n",
       "      <td>S111459</td>\n",
       "      <td>0</td>\n",
       "    </tr>\n",
       "    <tr>\n",
       "      <th>4</th>\n",
       "      <td>S119286</td>\n",
       "      <td>S132385</td>\n",
       "      <td>0</td>\n",
       "    </tr>\n",
       "  </tbody>\n",
       "</table>\n",
       "</div>"
      ],
      "text/plain": [
       "      qid1     qid2  label\n",
       "0  S120534  S117778      0\n",
       "1  S122428  S121421      0\n",
       "2  S132207  S126475      0\n",
       "3  S128121  S111459      0\n",
       "4  S119286  S132385      0"
      ]
     },
     "execution_count": 24,
     "metadata": {},
     "output_type": "execute_result"
    }
   ],
   "source": [
    "merge_data = pd.merge(label1, label0, left_on='qid2', right_on='qid2', how='inner')\n",
    "merge_data = merge_data.reset_index(drop=True)\n",
    "\n",
    "del merge_data['qid2']\n",
    "del merge_data['label_x']\n",
    "del merge_data['label_y']\n",
    "\n",
    "merge0_res2 = merge_data[merge_data['qid1_x'] != merge_data['qid1_y']]\n",
    "merge0_res2 = merge0_res2.reset_index(drop=True)\n",
    "\n",
    "merge0_res2 = merge0_res2.rename(columns={'qid1_x':'qid1','qid1_y':'qid2'})\n",
    "merge0_res2['label'] = 0\n",
    "\n",
    "print('merge0_res2 data size: {}'.format(len(merge0_res2)))\n",
    "\n",
    "merge0_res2.head()"
   ]
  },
  {
   "cell_type": "markdown",
   "metadata": {},
   "source": [
    "### left qid1 == right qid2"
   ]
  },
  {
   "cell_type": "code",
   "execution_count": 25,
   "metadata": {},
   "outputs": [
    {
     "name": "stdout",
     "output_type": "stream",
     "text": [
      "merge0_res3 data size: 4254\n"
     ]
    },
    {
     "data": {
      "text/html": [
       "<div>\n",
       "<style scoped>\n",
       "    .dataframe tbody tr th:only-of-type {\n",
       "        vertical-align: middle;\n",
       "    }\n",
       "\n",
       "    .dataframe tbody tr th {\n",
       "        vertical-align: top;\n",
       "    }\n",
       "\n",
       "    .dataframe thead th {\n",
       "        text-align: right;\n",
       "    }\n",
       "</style>\n",
       "<table border=\"1\" class=\"dataframe\">\n",
       "  <thead>\n",
       "    <tr style=\"text-align: right;\">\n",
       "      <th></th>\n",
       "      <th>qid1</th>\n",
       "      <th>qid2</th>\n",
       "      <th>label</th>\n",
       "    </tr>\n",
       "  </thead>\n",
       "  <tbody>\n",
       "    <tr>\n",
       "      <th>0</th>\n",
       "      <td>S135254</td>\n",
       "      <td>S135181</td>\n",
       "      <td>0</td>\n",
       "    </tr>\n",
       "    <tr>\n",
       "      <th>1</th>\n",
       "      <td>S112201</td>\n",
       "      <td>S123793</td>\n",
       "      <td>0</td>\n",
       "    </tr>\n",
       "    <tr>\n",
       "      <th>2</th>\n",
       "      <td>S107405</td>\n",
       "      <td>S100727</td>\n",
       "      <td>0</td>\n",
       "    </tr>\n",
       "    <tr>\n",
       "      <th>3</th>\n",
       "      <td>S130447</td>\n",
       "      <td>S120504</td>\n",
       "      <td>0</td>\n",
       "    </tr>\n",
       "    <tr>\n",
       "      <th>4</th>\n",
       "      <td>S103402</td>\n",
       "      <td>S103743</td>\n",
       "      <td>0</td>\n",
       "    </tr>\n",
       "  </tbody>\n",
       "</table>\n",
       "</div>"
      ],
      "text/plain": [
       "      qid1     qid2  label\n",
       "0  S135254  S135181      0\n",
       "1  S112201  S123793      0\n",
       "2  S107405  S100727      0\n",
       "3  S130447  S120504      0\n",
       "4  S103402  S103743      0"
      ]
     },
     "execution_count": 25,
     "metadata": {},
     "output_type": "execute_result"
    }
   ],
   "source": [
    "merge_data = pd.merge(label1, label0, left_on='qid1', right_on='qid2', how='inner')\n",
    "merge_data = merge_data.reset_index(drop=True)\n",
    "\n",
    "merge0_res3 = merge_data[merge_data['qid2_x'] != merge_data['qid1_y']].reset_index(drop=True)\n",
    "\n",
    "del merge0_res3['label_x']\n",
    "del merge0_res3['label_y']\n",
    "del merge0_res3['qid1_x']\n",
    "del merge0_res3['qid2_y']\n",
    "\n",
    "merge0_res3['label'] = 0\n",
    "merge0_res3 = merge0_res3.rename(columns={'qid2_x':'qid1','qid1_y':'qid2'})\n",
    "\n",
    "print('merge0_res3 data size: {}'.format(len(merge0_res3)))\n",
    "\n",
    "merge0_res3.head()"
   ]
  },
  {
   "cell_type": "markdown",
   "metadata": {},
   "source": [
    "### left qid2 = right qid1"
   ]
  },
  {
   "cell_type": "code",
   "execution_count": 26,
   "metadata": {},
   "outputs": [
    {
     "name": "stdout",
     "output_type": "stream",
     "text": [
      "merge0_res3 data size: 4261\n"
     ]
    },
    {
     "data": {
      "text/html": [
       "<div>\n",
       "<style scoped>\n",
       "    .dataframe tbody tr th:only-of-type {\n",
       "        vertical-align: middle;\n",
       "    }\n",
       "\n",
       "    .dataframe tbody tr th {\n",
       "        vertical-align: top;\n",
       "    }\n",
       "\n",
       "    .dataframe thead th {\n",
       "        text-align: right;\n",
       "    }\n",
       "</style>\n",
       "<table border=\"1\" class=\"dataframe\">\n",
       "  <thead>\n",
       "    <tr style=\"text-align: right;\">\n",
       "      <th></th>\n",
       "      <th>qid1</th>\n",
       "      <th>qid2</th>\n",
       "      <th>label</th>\n",
       "    </tr>\n",
       "  </thead>\n",
       "  <tbody>\n",
       "    <tr>\n",
       "      <th>0</th>\n",
       "      <td>S101149</td>\n",
       "      <td>S115588</td>\n",
       "      <td>0</td>\n",
       "    </tr>\n",
       "    <tr>\n",
       "      <th>1</th>\n",
       "      <td>S111502</td>\n",
       "      <td>S126858</td>\n",
       "      <td>0</td>\n",
       "    </tr>\n",
       "    <tr>\n",
       "      <th>2</th>\n",
       "      <td>S101883</td>\n",
       "      <td>S121822</td>\n",
       "      <td>0</td>\n",
       "    </tr>\n",
       "    <tr>\n",
       "      <th>3</th>\n",
       "      <td>S101883</td>\n",
       "      <td>S110432</td>\n",
       "      <td>0</td>\n",
       "    </tr>\n",
       "    <tr>\n",
       "      <th>4</th>\n",
       "      <td>S116478</td>\n",
       "      <td>S102705</td>\n",
       "      <td>0</td>\n",
       "    </tr>\n",
       "  </tbody>\n",
       "</table>\n",
       "</div>"
      ],
      "text/plain": [
       "      qid1     qid2  label\n",
       "0  S101149  S115588      0\n",
       "1  S111502  S126858      0\n",
       "2  S101883  S121822      0\n",
       "3  S101883  S110432      0\n",
       "4  S116478  S102705      0"
      ]
     },
     "execution_count": 26,
     "metadata": {},
     "output_type": "execute_result"
    }
   ],
   "source": [
    "merge_data = pd.merge(label1, label0, left_on='qid2', right_on='qid1', how='inner')\n",
    "merge_data = merge_data.reset_index(drop=True)\n",
    "\n",
    "merge0_res4 = merge_data[merge_data['qid1_x'] != merge_data['qid2_y']].reset_index(drop=True)\n",
    "\n",
    "merge0_res4 = merge0_res4.drop(['qid2_x', 'qid1_y', 'label_x', 'label_y'], axis=1)\n",
    "\n",
    "merge0_res4['label'] = 0\n",
    "\n",
    "merge0_res4 = merge0_res4.rename(columns={'qid1_x':'qid1','qid2_y':'qid2'})\n",
    "\n",
    "print('merge0_res3 data size: {}'.format(len(merge0_res4)))\n",
    "\n",
    "merge0_res4.head()"
   ]
  },
  {
   "cell_type": "markdown",
   "metadata": {},
   "source": [
    "###  merge all infer label 0 data"
   ]
  },
  {
   "cell_type": "code",
   "execution_count": 27,
   "metadata": {},
   "outputs": [
    {
     "name": "stdout",
     "output_type": "stream",
     "text": [
      "infer_label0_data size: 17133\n"
     ]
    },
    {
     "data": {
      "text/html": [
       "<div>\n",
       "<style scoped>\n",
       "    .dataframe tbody tr th:only-of-type {\n",
       "        vertical-align: middle;\n",
       "    }\n",
       "\n",
       "    .dataframe tbody tr th {\n",
       "        vertical-align: top;\n",
       "    }\n",
       "\n",
       "    .dataframe thead th {\n",
       "        text-align: right;\n",
       "    }\n",
       "</style>\n",
       "<table border=\"1\" class=\"dataframe\">\n",
       "  <thead>\n",
       "    <tr style=\"text-align: right;\">\n",
       "      <th></th>\n",
       "      <th>qid1</th>\n",
       "      <th>qid2</th>\n",
       "      <th>label</th>\n",
       "    </tr>\n",
       "  </thead>\n",
       "  <tbody>\n",
       "    <tr>\n",
       "      <th>0</th>\n",
       "      <td>S112201</td>\n",
       "      <td>S115851</td>\n",
       "      <td>0</td>\n",
       "    </tr>\n",
       "    <tr>\n",
       "      <th>1</th>\n",
       "      <td>S107405</td>\n",
       "      <td>S119124</td>\n",
       "      <td>0</td>\n",
       "    </tr>\n",
       "    <tr>\n",
       "      <th>2</th>\n",
       "      <td>S108686</td>\n",
       "      <td>S119308</td>\n",
       "      <td>0</td>\n",
       "    </tr>\n",
       "    <tr>\n",
       "      <th>3</th>\n",
       "      <td>S100679</td>\n",
       "      <td>S105351</td>\n",
       "      <td>0</td>\n",
       "    </tr>\n",
       "    <tr>\n",
       "      <th>4</th>\n",
       "      <td>S100878</td>\n",
       "      <td>S105351</td>\n",
       "      <td>0</td>\n",
       "    </tr>\n",
       "  </tbody>\n",
       "</table>\n",
       "</div>"
      ],
      "text/plain": [
       "      qid1     qid2  label\n",
       "0  S112201  S115851      0\n",
       "1  S107405  S119124      0\n",
       "2  S108686  S119308      0\n",
       "3  S100679  S105351      0\n",
       "4  S100878  S105351      0"
      ]
     },
     "execution_count": 27,
     "metadata": {},
     "output_type": "execute_result"
    }
   ],
   "source": [
    "infer_label0_data = pd.concat([merge0_res1, merge0_res2, merge0_res3, merge0_res4], axis=0)\n",
    "infer_label0_data = infer_label0_data.reset_index(drop=True)\n",
    "infer_label0_data.to_csv('../data/infer_label0_data.csv', index=False)\n",
    "print('infer_label0_data size: {}'.format(len(infer_label0_data)))\n",
    "infer_label0_data.head()"
   ]
  },
  {
   "cell_type": "markdown",
   "metadata": {
    "collapsed": true
   },
   "source": [
    "# 根据图来生成新的数据\n",
    "\n",
    "构图使用networkx\n",
    "\n",
    "使用图来构建数据得到的数据总量约为：53000.\n",
    "\n",
    "使用新增的数据集来训练，效果差了不少"
   ]
  },
  {
   "cell_type": "code",
   "execution_count": 28,
   "metadata": {},
   "outputs": [],
   "source": [
    "import networkx as nx"
   ]
  },
  {
   "cell_type": "code",
   "execution_count": 29,
   "metadata": {},
   "outputs": [],
   "source": [
    "# 构建图\n",
    "g = nx.Graph()\n",
    "for idx in range(len(train_data)):\n",
    "    q1 = train_data.loc[idx, 'qid1']\n",
    "    q2 = train_data.loc[idx, 'qid2']\n",
    "    g.add_node(q1)\n",
    "    g.add_node(q2)\n",
    "    g.add_edge(q1, q2)\n",
    "    g[q1][q2]['label'] = train_data.loc[idx, 'label']"
   ]
  },
  {
   "cell_type": "code",
   "execution_count": 30,
   "metadata": {},
   "outputs": [
    {
     "data": {
      "text/plain": [
       "203875"
      ]
     },
     "execution_count": 30,
     "metadata": {},
     "output_type": "execute_result"
    }
   ],
   "source": [
    "# 根据图生成数据\n",
    "new_data_set = []\n",
    "cnt = 0\n",
    "result = []\n",
    "for n in list(g.nodes()):\n",
    "    neighbors = list(g.neighbors(n))\n",
    "    if len(neighbors) == 1:\n",
    "        new_data_set.append([n, neighbors[0], g[n][neighbors[0]]['label']])\n",
    "    else:\n",
    "        pos_n = []\n",
    "        neg_n = [node for node in neighbors if g[n][node]['label'] == 0 ]\n",
    "        q = queue.Queue()\n",
    "        q.put(n)\n",
    "        vist = {}        \n",
    "        while q.qsize() > 0:\n",
    "            t = q.get()\n",
    "            vist[t] = 1\n",
    "            pos_n.append(t)\n",
    "            neighbors = list(g.neighbors(t))\n",
    "            for node in neighbors:\n",
    "                if g[t][node]['label'] == 1 and node not in vist:\n",
    "                    q.put(node)\n",
    "        # 任意一正一负节点组成负样本\n",
    "        for pos in pos_n:\n",
    "            for neg in neg_n:\n",
    "                if pos < neg:\n",
    "                    new_data_set.append([pos, neg, 0])\n",
    "                else:\n",
    "                    new_data_set.append([neg, pos, 0])\n",
    "        # 任意两个正节点组成一个正样本\n",
    "        for idx in range(len(pos_n)):\n",
    "            for j in range(idx+1, len(pos_n)):\n",
    "                if pos_n[idx] < pos_n[j]:\n",
    "                    new_data_set.append([pos_n[idx], pos_n[j], 1])\n",
    "                else:\n",
    "                    new_data_set.append([pos_n[j], pos_n[idx], 1])\n",
    "len(new_data_set)"
   ]
  },
  {
   "cell_type": "code",
   "execution_count": 31,
   "metadata": {},
   "outputs": [
    {
     "name": "stdout",
     "output_type": "stream",
     "text": [
      "Total data size : 53555\n",
      "Postive data size : 17320\n",
      "Negtive data size : 36235\n"
     ]
    }
   ],
   "source": [
    "# 去重\n",
    "new_data = pd.DataFrame(new_data_set, columns=['qid1', 'qid2', 'label'])\n",
    "new_data = new_data.drop_duplicates()\n",
    "new_data = utils.shuffle(new_data)\n",
    "new_data = utils.shuffle(new_data)\n",
    "new_data = utils.shuffle(new_data)\n",
    "new_data = utils.shuffle(new_data)\n",
    "new_data = new_data.reset_index(drop=True)\n",
    "\n",
    "print('Total data size : {}'.format(len(new_data)))\n",
    "print('Postive data size : {}'.format(new_data['label'].sum()))\n",
    "print('Negtive data size : {}'.format(len(new_data) - new_data['label'].sum()))"
   ]
  },
  {
   "cell_type": "code",
   "execution_count": 32,
   "metadata": {},
   "outputs": [],
   "source": [
    "# 保存 至本地\n",
    "new_data.to_csv('your file name', index=False)"
   ]
  },
  {
   "cell_type": "markdown",
   "metadata": {
    "collapsed": true
   },
   "source": [
    "# 建立词图"
   ]
  },
  {
   "cell_type": "markdown",
   "metadata": {},
   "source": [
    "## 词对统计"
   ]
  },
  {
   "cell_type": "code",
   "execution_count": 76,
   "metadata": {},
   "outputs": [],
   "source": [
    "g = nx.Graph()\n",
    "\n",
    "train_df, test_df = load_data()\n",
    "\n",
    "w_list = []\n",
    "\n",
    "q1s = list(train_df['q1_w'].values)\n",
    "q2s = list(train_df['q2_w'].values)\n",
    "\n",
    "for q in q1s:\n",
    "    w_list += q.split()\n",
    "\n",
    "for  q in q2s:\n",
    "    w_list += q.split()\n",
    "\n",
    "g.add_nodes_from(w_list)\n",
    "\n",
    "for idx in range(len(train_df)):\n",
    "    q1 = train_df.loc[idx, 'q1_w'].split()\n",
    "    q2 = train_df.loc[idx, 'q2_w'].split()\n",
    "    label = train_df.loc[idx, 'label']\n",
    "    for w1 in q1:\n",
    "        for w2 in q2:\n",
    "            if w1 != w2:\n",
    "                g.add_edge(w1,w2)\n",
    "                if label in g[w1][w2]:\n",
    "                    g[w1][w2][label] += 1\n",
    "                else:\n",
    "                    g[w1][w2][label] = 1"
   ]
  },
  {
   "cell_type": "code",
   "execution_count": 78,
   "metadata": {},
   "outputs": [],
   "source": [
    "def get_label_count(row, g):\n",
    "    q1 = row['q1_w'].split()\n",
    "    q2 = row['q2_w'].split()\n",
    "    label_cnt = {}\n",
    "    label_cnt[0] = 0\n",
    "    label_cnt[1] = 0\n",
    "    for w1 in q1:\n",
    "        for w2 in q2:\n",
    "            try:\n",
    "                edge = g[w1][w2]\n",
    "                label_cnt[0] += edge[0]\n",
    "                label_cnt[1] += edge[1]\n",
    "            except:\n",
    "                continue\n",
    "    return '{}:{}'.format(label_cnt[0], label_cnt[1])"
   ]
  },
  {
   "cell_type": "code",
   "execution_count": 79,
   "metadata": {},
   "outputs": [],
   "source": [
    "train_df['label_cnt'] = train_df.apply(lambda x: get_label_count(x, g), axis=1)"
   ]
  },
  {
   "cell_type": "code",
   "execution_count": 80,
   "metadata": {},
   "outputs": [
    {
     "data": {
      "text/html": [
       "<div>\n",
       "<style scoped>\n",
       "    .dataframe tbody tr th:only-of-type {\n",
       "        vertical-align: middle;\n",
       "    }\n",
       "\n",
       "    .dataframe tbody tr th {\n",
       "        vertical-align: top;\n",
       "    }\n",
       "\n",
       "    .dataframe thead th {\n",
       "        text-align: right;\n",
       "    }\n",
       "</style>\n",
       "<table border=\"1\" class=\"dataframe\">\n",
       "  <thead>\n",
       "    <tr style=\"text-align: right;\">\n",
       "      <th></th>\n",
       "      <th>qid1</th>\n",
       "      <th>qid2</th>\n",
       "      <th>label</th>\n",
       "      <th>q1_w</th>\n",
       "      <th>q1_c</th>\n",
       "      <th>q2_w</th>\n",
       "      <th>q2_c</th>\n",
       "      <th>label_cnt</th>\n",
       "    </tr>\n",
       "  </thead>\n",
       "  <tbody>\n",
       "    <tr>\n",
       "      <th>0</th>\n",
       "      <td>S107641</td>\n",
       "      <td>S103854</td>\n",
       "      <td>0</td>\n",
       "      <td>W105587 W101644 W102193 W106548 W104416</td>\n",
       "      <td>C101295 C101168 C100955 C101340 C102226 C10088...</td>\n",
       "      <td>W105587 W101644 W102193 W104454</td>\n",
       "      <td>C101295 C101168 C100955 C101340 C102226 C10120...</td>\n",
       "      <td>1438:1670</td>\n",
       "    </tr>\n",
       "    <tr>\n",
       "      <th>1</th>\n",
       "      <td>S103127</td>\n",
       "      <td>S110857</td>\n",
       "      <td>1</td>\n",
       "      <td>W106907 W107170 W100323 W101855 W104806</td>\n",
       "      <td>C101836 C102106 C100291 C101643 C100114 C10126...</td>\n",
       "      <td>W108463 W103461 W100735 W103461</td>\n",
       "      <td>C100291 C101643 C100114 C100637 C100099 C10061...</td>\n",
       "      <td>822:1160</td>\n",
       "    </tr>\n",
       "    <tr>\n",
       "      <th>2</th>\n",
       "      <td>S120534</td>\n",
       "      <td>S135254</td>\n",
       "      <td>1</td>\n",
       "      <td>W108463 W108376 W101396 W107941 W104416 W106503</td>\n",
       "      <td>C100291 C101643 C100114 C100637 C101585 C10120...</td>\n",
       "      <td>W102817 W103791 W107170 W103190 W104668 W10560...</td>\n",
       "      <td>C102244 C100269 C101836 C101968 C100291 C10164...</td>\n",
       "      <td>14185:14576</td>\n",
       "    </tr>\n",
       "    <tr>\n",
       "      <th>3</th>\n",
       "      <td>S102044</td>\n",
       "      <td>S106012</td>\n",
       "      <td>0</td>\n",
       "      <td>W100914 W102600 W104740 W106503 W102627 W10052...</td>\n",
       "      <td>C100376 C101061 C101618 C100376 C101061 C10001...</td>\n",
       "      <td>W100914 W108376 W101478 W100533 W109637 W10480...</td>\n",
       "      <td>C100376 C101061 C101618 C101585 C101200 C10161...</td>\n",
       "      <td>7511:7182</td>\n",
       "    </tr>\n",
       "    <tr>\n",
       "      <th>4</th>\n",
       "      <td>S134333</td>\n",
       "      <td>S109235</td>\n",
       "      <td>0</td>\n",
       "      <td>W107170 W102193 W102254 W109339 W101995 W104416</td>\n",
       "      <td>C100291 C101643 C100114 C102226 C101449 C10059...</td>\n",
       "      <td>W107170 W102193 W102254 W109474 W106089 W10441...</td>\n",
       "      <td>C100291 C101643 C100114 C102226 C101449 C10059...</td>\n",
       "      <td>9890:10263</td>\n",
       "    </tr>\n",
       "  </tbody>\n",
       "</table>\n",
       "</div>"
      ],
      "text/plain": [
       "      qid1     qid2  label                                               q1_w  \\\n",
       "0  S107641  S103854      0            W105587 W101644 W102193 W106548 W104416   \n",
       "1  S103127  S110857      1            W106907 W107170 W100323 W101855 W104806   \n",
       "2  S120534  S135254      1    W108463 W108376 W101396 W107941 W104416 W106503   \n",
       "3  S102044  S106012      0  W100914 W102600 W104740 W106503 W102627 W10052...   \n",
       "4  S134333  S109235      0    W107170 W102193 W102254 W109339 W101995 W104416   \n",
       "\n",
       "                                                q1_c  \\\n",
       "0  C101295 C101168 C100955 C101340 C102226 C10088...   \n",
       "1  C101836 C102106 C100291 C101643 C100114 C10126...   \n",
       "2  C100291 C101643 C100114 C100637 C101585 C10120...   \n",
       "3  C100376 C101061 C101618 C100376 C101061 C10001...   \n",
       "4  C100291 C101643 C100114 C102226 C101449 C10059...   \n",
       "\n",
       "                                                q2_w  \\\n",
       "0                    W105587 W101644 W102193 W104454   \n",
       "1                    W108463 W103461 W100735 W103461   \n",
       "2  W102817 W103791 W107170 W103190 W104668 W10560...   \n",
       "3  W100914 W108376 W101478 W100533 W109637 W10480...   \n",
       "4  W107170 W102193 W102254 W109474 W106089 W10441...   \n",
       "\n",
       "                                                q2_c    label_cnt  \n",
       "0  C101295 C101168 C100955 C101340 C102226 C10120...    1438:1670  \n",
       "1  C100291 C101643 C100114 C100637 C100099 C10061...     822:1160  \n",
       "2  C102244 C100269 C101836 C101968 C100291 C10164...  14185:14576  \n",
       "3  C100376 C101061 C101618 C101585 C101200 C10161...    7511:7182  \n",
       "4  C100291 C101643 C100114 C102226 C101449 C10059...   9890:10263  "
      ]
     },
     "execution_count": 80,
     "metadata": {},
     "output_type": "execute_result"
    }
   ],
   "source": [
    "train_df.head()"
   ]
  },
  {
   "cell_type": "code",
   "execution_count": 64,
   "metadata": {},
   "outputs": [],
   "source": [
    "g = nx.Graph()\n",
    "g.add_nodes_from([1,0,2,3,4,5])\n",
    "g.add_edge(1,2)"
   ]
  },
  {
   "cell_type": "code",
   "execution_count": 70,
   "metadata": {},
   "outputs": [],
   "source": [
    "g[1][2][1] = 2"
   ]
  },
  {
   "cell_type": "code",
   "execution_count": 71,
   "metadata": {},
   "outputs": [
    {
     "data": {
      "text/plain": [
       "{1: 2}"
      ]
     },
     "execution_count": 71,
     "metadata": {},
     "output_type": "execute_result"
    }
   ],
   "source": [
    "g[1][2]"
   ]
  },
  {
   "cell_type": "code",
   "execution_count": 72,
   "metadata": {},
   "outputs": [],
   "source": [
    "g.add_edge(1,2)"
   ]
  },
  {
   "cell_type": "code",
   "execution_count": 73,
   "metadata": {},
   "outputs": [
    {
     "data": {
      "text/plain": [
       "{1: 2}"
      ]
     },
     "execution_count": 73,
     "metadata": {},
     "output_type": "execute_result"
    }
   ],
   "source": [
    "g[1][2]"
   ]
  },
  {
   "cell_type": "code",
   "execution_count": 75,
   "metadata": {},
   "outputs": [
    {
     "data": {
      "text/plain": [
       "False"
      ]
     },
     "execution_count": 75,
     "metadata": {},
     "output_type": "execute_result"
    }
   ],
   "source": [
    "0 in g[1][2]"
   ]
  },
  {
   "cell_type": "code",
   "execution_count": 83,
   "metadata": {},
   "outputs": [
    {
     "name": "stdout",
     "output_type": "stream",
     "text": [
      "48\n",
      "Index(['simhash_w1gram_dist', 'simhash_w2gram_dist', 'simhash_w3gram_dist',\n",
      "       'simhash_c1gram_dist', 'simhash_c2gram_dist', 'simhash_c3gram_dist',\n",
      "       'len_word_max', 'len_word_min', 'len_char_max', 'len_char_min',\n",
      "       'word_length_diff', 'char_length_diff', 'cosine_sim', 'manhattan_dis',\n",
      "       'eucledian_dis', 'jaccard_dis', 'minkowsk_dis', 'w_wmd', 'c_wmd',\n",
      "       'tfidf_cs', 'tfidf_ed', 'tfidf_md', 'svd_cs', 'svd_ed', 'svd_md',\n",
      "       'lda_cs', 'lda_ed', 'lda_md', 'w_intersection', 'c_intersection',\n",
      "       'word_match_share', 'char_match_share', 'tfidf_word_match_share',\n",
      "       'tfidf_char_match_share', 'token_set_ratio', 'token_sort_ratio',\n",
      "       'fuzz_ratio', 'fuzz_partial_ratio', 'token_set_ratio_char',\n",
      "       'token_sort_ratio_char', 'fuzz_ratio_char', 'fuzz_partial_ratio_char',\n",
      "       'q1_degree', 'q2_degree', 'edit_dist_word', 'edit_dist_char', 'q1_freq',\n",
      "       'q2_freq'],\n",
      "      dtype='object')\n"
     ]
    }
   ],
   "source": [
    "train_feature = pd.read_csv('../feature/train_feature.csv')\n",
    "print(len(train_feature.columns))\n",
    "print(train_feature.columns)"
   ]
  },
  {
   "cell_type": "code",
   "execution_count": 84,
   "metadata": {},
   "outputs": [
    {
     "name": "stdout",
     "output_type": "stream",
     "text": [
      "51\n",
      "Index(['simhash_w1gram_dist', 'simhash_w2gram_dist', 'simhash_w3gram_dist',\n",
      "       'simhash_c1gram_dist', 'simhash_c2gram_dist', 'simhash_c3gram_dist',\n",
      "       'len_word_max', 'len_word_min', 'len_char_max', 'len_char_min',\n",
      "       'word_length_diff', 'char_length_diff', 'cosine_sim', 'manhattan_dis',\n",
      "       'eucledian_dis', 'jaccard_dis', 'minkowsk_dis', 'w_wmd', 'c_wmd',\n",
      "       'tfidf_cs', 'tfidf_ed', 'tfidf_md', 'svd_cs', 'svd_ed', 'svd_md',\n",
      "       'lda_cs', 'lda_ed', 'lda_md', 'w_intersection', 'c_intersection',\n",
      "       'word_match_share', 'char_match_share', 'tfidf_word_match_share',\n",
      "       'tfidf_char_match_share', 'token_set_ratio', 'token_sort_ratio',\n",
      "       'fuzz_ratio', 'fuzz_partial_ratio', 'token_set_ratio_char',\n",
      "       'token_sort_ratio_char', 'fuzz_ratio_char', 'fuzz_partial_ratio_char',\n",
      "       'q1_degree', 'q2_degree', 'edit_dist_word', 'edit_dist_char', 'bm25_cs',\n",
      "       'bm25_ed', 'bm25_md', 'q1_freq', 'q2_freq'],\n",
      "      dtype='object')\n"
     ]
    }
   ],
   "source": [
    "train_feature = pd.read_csv('../feature/train_feature_with_bm25.csv')\n",
    "print(len(train_feature.columns))\n",
    "print(train_feature.columns)"
   ]
  },
  {
   "cell_type": "code",
   "execution_count": 91,
   "metadata": {},
   "outputs": [],
   "source": [
    "train_feature = pd.read_csv('../feature/train_feature_with_bm25.csv')\n",
    "test_feature = pd.read_csv('../feature/test_feature_with_bm25.csv')"
   ]
  },
  {
   "cell_type": "code",
   "execution_count": 89,
   "metadata": {},
   "outputs": [],
   "source": [
    "train_label_cnt = pd.read_csv('../feature/train_feature_wp.csv')\n",
    "test_label_cnt = pd.read_csv('../feature/test_feature_wp.csv')\n",
    "train_label_cnt = train_label_cnt[['label_cnt_0', 'label_cnt_1']]\n",
    "test_label_cnt = test_label_cnt[['label_cnt_0', 'label_cnt_1']]"
   ]
  },
  {
   "cell_type": "code",
   "execution_count": 92,
   "metadata": {},
   "outputs": [],
   "source": [
    "train_feature = pd.concat([train_feature, train_label_cnt], axis=1)\n",
    "test_feature = pd.concat([test_feature, test_label_cnt], axis=1)"
   ]
  },
  {
   "cell_type": "code",
   "execution_count": 93,
   "metadata": {},
   "outputs": [
    {
     "name": "stdout",
     "output_type": "stream",
     "text": [
      "53\n",
      "Index(['simhash_w1gram_dist', 'simhash_w2gram_dist', 'simhash_w3gram_dist',\n",
      "       'simhash_c1gram_dist', 'simhash_c2gram_dist', 'simhash_c3gram_dist',\n",
      "       'len_word_max', 'len_word_min', 'len_char_max', 'len_char_min',\n",
      "       'word_length_diff', 'char_length_diff', 'cosine_sim', 'manhattan_dis',\n",
      "       'eucledian_dis', 'jaccard_dis', 'minkowsk_dis', 'w_wmd', 'c_wmd',\n",
      "       'tfidf_cs', 'tfidf_ed', 'tfidf_md', 'svd_cs', 'svd_ed', 'svd_md',\n",
      "       'lda_cs', 'lda_ed', 'lda_md', 'w_intersection', 'c_intersection',\n",
      "       'word_match_share', 'char_match_share', 'tfidf_word_match_share',\n",
      "       'tfidf_char_match_share', 'token_set_ratio', 'token_sort_ratio',\n",
      "       'fuzz_ratio', 'fuzz_partial_ratio', 'token_set_ratio_char',\n",
      "       'token_sort_ratio_char', 'fuzz_ratio_char', 'fuzz_partial_ratio_char',\n",
      "       'q1_degree', 'q2_degree', 'edit_dist_word', 'edit_dist_char', 'bm25_cs',\n",
      "       'bm25_ed', 'bm25_md', 'q1_freq', 'q2_freq', 'label_cnt_0',\n",
      "       'label_cnt_1'],\n",
      "      dtype='object')\n"
     ]
    }
   ],
   "source": [
    "print(len(train_feature.columns))\n",
    "print(train_feature.columns)"
   ]
  },
  {
   "cell_type": "code",
   "execution_count": 94,
   "metadata": {},
   "outputs": [],
   "source": [
    "train_feature.to_csv('../feature/train_feature_53.csv', index=False)\n",
    "test_feature.to_csv('../feature/test_feature_53.csv', index=False)"
   ]
  },
  {
   "cell_type": "code",
   "execution_count": 95,
   "metadata": {},
   "outputs": [
    {
     "data": {
      "text/plain": [
       "20000"
      ]
     },
     "execution_count": 95,
     "metadata": {},
     "output_type": "execute_result"
    }
   ],
   "source": [
    "len(train_feature)"
   ]
  },
  {
   "cell_type": "code",
   "execution_count": 96,
   "metadata": {},
   "outputs": [
    {
     "data": {
      "text/plain": [
       "10000"
      ]
     },
     "execution_count": 96,
     "metadata": {},
     "output_type": "execute_result"
    }
   ],
   "source": [
    "len(test_feature)"
   ]
  },
  {
   "cell_type": "code",
   "execution_count": 98,
   "metadata": {},
   "outputs": [],
   "source": [
    "tmp = np.load('../prediction/dcnn_char_gl_feature/round_1_train_kf_1.npy')"
   ]
  },
  {
   "cell_type": "code",
   "execution_count": 99,
   "metadata": {},
   "outputs": [
    {
     "data": {
      "text/plain": [
       "(4000, 1)"
      ]
     },
     "execution_count": 99,
     "metadata": {},
     "output_type": "execute_result"
    }
   ],
   "source": [
    "tmp.shape"
   ]
  },
  {
   "cell_type": "code",
   "execution_count": null,
   "metadata": {},
   "outputs": [],
   "source": []
  }
 ],
 "metadata": {
  "kernelspec": {
   "display_name": "Python (rllab)",
   "language": "python",
   "name": "rllab"
  },
  "language_info": {
   "codemirror_mode": {
    "name": "ipython",
    "version": 3
   },
   "file_extension": ".py",
   "mimetype": "text/x-python",
   "name": "python",
   "nbconvert_exporter": "python",
   "pygments_lexer": "ipython3",
   "version": "3.5.4"
  }
 },
 "nbformat": 4,
 "nbformat_minor": 2
}
